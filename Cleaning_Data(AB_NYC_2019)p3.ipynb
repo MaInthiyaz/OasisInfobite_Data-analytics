{
  "nbformat": 4,
  "nbformat_minor": 0,
  "metadata": {
    "colab": {
      "provenance": [],
      "authorship_tag": "ABX9TyP9W0nsxJHL71Dow/0hjPse",
      "include_colab_link": true
    },
    "kernelspec": {
      "name": "python3",
      "display_name": "Python 3"
    },
    "language_info": {
      "name": "python"
    }
  },
  "cells": [
    {
      "cell_type": "markdown",
      "metadata": {
        "id": "view-in-github",
        "colab_type": "text"
      },
      "source": [
        "<a href=\"https://colab.research.google.com/github/MaInthiyaz/OasisInfobite_Data-analytics/blob/main/Cleaning_Data(AB_NYC_2019)p3.ipynb\" target=\"_parent\"><img src=\"https://colab.research.google.com/assets/colab-badge.svg\" alt=\"Open In Colab\"/></a>"
      ]
    },
    {
      "cell_type": "markdown",
      "source": [
        "**Idea: Cleaning Data**\n",
        "\n",
        "\n",
        "**Description:**\n",
        "\n",
        "Data cleaning is the process of fixing or removing incorrect, corrupted, duplicate, or incomplete\n",
        "data within a dataset. Messy data leads to unreliable outcomes. Cleaning data is an essential\n",
        "part of data analysis, and demonstrating your data cleaning skills is key to landing a job. Here\n",
        "are some projects to test out your data cleaning skills:\n",
        "**Key Concepts and Challenges:**\n",
        "\n",
        "**Data Integrity:** Ensuring the accuracy, consistency, and reliability of data throughout the\n",
        "cleaning process.\n",
        "**Missing Data Handling:** Dealing with missing values by either imputing them or making\n",
        "informed decisions on how to handle gaps in the dataset.\n",
        "**Duplicate Removal:** Identifying and eliminating duplicate records to maintain data\n",
        "uniqueness.\n",
        "**Standardization:** Consistent formatting and units across the dataset for accurate analysis.\n",
        "**Outlier Detection**: Identifying and addressing outliers that may skew\n",
        "analysis or model .   \n",
        "performance.read the properly the zip file create a code as above given"
      ],
      "metadata": {
        "id": "nLA_0a2PU1EI"
      }
    },
    {
      "cell_type": "code",
      "source": [
        "import pandas as pd\n",
        "import matplotlib.pyplot as plt\n",
        "import seaborn as sns\n",
        "# Step 1: Load Dataset\n",
        "data = pd.read_csv(\"AB_NYC_2019.csv\")\n",
        "print(\"Initial Data Shape:\", data.shape)"
      ],
      "metadata": {
        "colab": {
          "base_uri": "https://localhost:8080/"
        },
        "id": "ZVw52QN7VOFf",
        "outputId": "94c8c6bc-fe22-440d-d5b6-54e26471d687"
      },
      "execution_count": 1,
      "outputs": [
        {
          "output_type": "stream",
          "name": "stdout",
          "text": [
            "Initial Data Shape: (48895, 16)\n"
          ]
        }
      ]
    },
    {
      "cell_type": "markdown",
      "source": [
        "#step 2: Data Integrity Check"
      ],
      "metadata": {
        "id": "WxICwBHrZG4-"
      }
    },
    {
      "cell_type": "code",
      "source": [
        "print(\"\\nMissing Values:\\n\", data.isnull().sum())\n",
        "print(\"\\nData Types:\\n\", data.dtypes)"
      ],
      "metadata": {
        "colab": {
          "base_uri": "https://localhost:8080/"
        },
        "id": "NYNzEjT7ZGCa",
        "outputId": "4dac0ac4-c25b-4713-eb63-f82437ee5632"
      },
      "execution_count": 2,
      "outputs": [
        {
          "output_type": "stream",
          "name": "stdout",
          "text": [
            "\n",
            "Missing Values:\n",
            " id                                    0\n",
            "name                                 16\n",
            "host_id                               0\n",
            "host_name                            21\n",
            "neighbourhood_group                   0\n",
            "neighbourhood                         0\n",
            "latitude                              0\n",
            "longitude                             0\n",
            "room_type                             0\n",
            "price                                 0\n",
            "minimum_nights                        0\n",
            "number_of_reviews                     0\n",
            "last_review                       10052\n",
            "reviews_per_month                 10052\n",
            "calculated_host_listings_count        0\n",
            "availability_365                      0\n",
            "dtype: int64\n",
            "\n",
            "Data Types:\n",
            " id                                  int64\n",
            "name                               object\n",
            "host_id                             int64\n",
            "host_name                          object\n",
            "neighbourhood_group                object\n",
            "neighbourhood                      object\n",
            "latitude                          float64\n",
            "longitude                         float64\n",
            "room_type                          object\n",
            "price                               int64\n",
            "minimum_nights                      int64\n",
            "number_of_reviews                   int64\n",
            "last_review                        object\n",
            "reviews_per_month                 float64\n",
            "calculated_host_listings_count      int64\n",
            "availability_365                    int64\n",
            "dtype: object\n"
          ]
        }
      ]
    },
    {
      "cell_type": "markdown",
      "source": [
        "# Step 3: Handle Missing Data"
      ],
      "metadata": {
        "id": "MP36aya-Y-r3"
      }
    },
    {
      "cell_type": "code",
      "source": [
        " #Impute 'reviews_per_month' missing values with 0\n",
        "data['reviews_per_month'] = data['reviews_per_month'].fillna(0)\n",
        "\n",
        "# Drop rows where 'name' or 'host_name' are missing\n",
        "data = data.dropna(subset=['name', 'host_name'])\n",
        "print(\"\\nData Shape After Handling Missing Values:\", data.shape)"
      ],
      "metadata": {
        "colab": {
          "base_uri": "https://localhost:8080/"
        },
        "id": "e-WQkfPaY6aG",
        "outputId": "6fd688a1-42c4-4624-c305-e6713c0f37e5"
      },
      "execution_count": 3,
      "outputs": [
        {
          "output_type": "stream",
          "name": "stdout",
          "text": [
            "\n",
            "Data Shape After Handling Missing Values: (48858, 16)\n"
          ]
        }
      ]
    },
    {
      "cell_type": "markdown",
      "source": [
        " #Step 4: Remove Duplicates"
      ],
      "metadata": {
        "id": "DsB-YPjaYzWV"
      }
    },
    {
      "cell_type": "code",
      "source": [
        "# Drop duplicate rows\n",
        "data = data.drop_duplicates()\n",
        "print(\"\\nData Shape After Duplicate Removal:\", data.shape)"
      ],
      "metadata": {
        "colab": {
          "base_uri": "https://localhost:8080/"
        },
        "id": "tDn4ZnaqYvNx",
        "outputId": "defea2ba-cee5-4bd9-de9a-f39a1d43eb2b"
      },
      "execution_count": 4,
      "outputs": [
        {
          "output_type": "stream",
          "name": "stdout",
          "text": [
            "\n",
            "Data Shape After Duplicate Removal: (48858, 16)\n"
          ]
        }
      ]
    },
    {
      "cell_type": "markdown",
      "source": [
        "# Step 5: Standardization"
      ],
      "metadata": {
        "id": "DLiB8SGLYovr"
      }
    },
    {
      "cell_type": "code",
      "source": [
        "# Convert neighborhood group to uppercase for consistency\n",
        "data['neighbourhood_group'] = data['neighbourhood_group'].str.upper()"
      ],
      "metadata": {
        "id": "qYWaJNFrYlKd"
      },
      "execution_count": 5,
      "outputs": []
    },
    {
      "cell_type": "markdown",
      "source": [
        "# Step 6: Outlier Detection & Handling"
      ],
      "metadata": {
        "id": "fJSOq9MCYfmg"
      }
    },
    {
      "cell_type": "code",
      "source": [
        " #Visualize outliers in price\n",
        "plt.figure(figsize=(10, 6))\n",
        "sns.boxplot(x=data['price'])\n",
        "plt.title('Outlier Detection in Price')\n",
        "plt.show()\n",
        "\n",
        "# Remove listings with extremely high prices (above 99th percentile)\n",
        "q99 = data['price'].quantile(0.99)\n",
        "data = data[data['price'] <= q99]\n",
        "print(\"\\nData Shape After Outlier Removal:\", data.shape)"
      ],
      "metadata": {
        "colab": {
          "base_uri": "https://localhost:8080/",
          "height": 599
        },
        "id": "8GTxqVLUYX67",
        "outputId": "f3134281-c1d4-4545-b623-91b0743d8ec7"
      },
      "execution_count": 6,
      "outputs": [
        {
          "output_type": "display_data",
          "data": {
            "text/plain": [
              "<Figure size 1000x600 with 1 Axes>"
            ],
            "image/png": "[encoded data removed]"
          },
          "metadata": {}
        },
        {
          "output_type": "stream",
          "name": "stdout",
          "text": [
            "\n",
            "Data Shape After Outlier Removal: (48384, 16)\n"
          ]
        }
      ]
    },
    {
      "cell_type": "markdown",
      "source": [
        "# Step 7: Save Cleaned Data"
      ],
      "metadata": {
        "id": "FP-sa9HRYPbJ"
      }
    },
    {
      "cell_type": "code",
      "source": [
        "cleaned_path = \"cleaned_AB_NYC_2019.csv\"\n",
        "data.to_csv(cleaned_path, index=False)\n",
        "print(f\"\\nCleaned data saved to {cleaned_path}\")"
      ],
      "metadata": {
        "colab": {
          "base_uri": "https://localhost:8080/"
        },
        "id": "mM8yt2CsYP6p",
        "outputId": "975fb0f6-a73f-4838-c32b-e511e1734e7a"
      },
      "execution_count": 7,
      "outputs": [
        {
          "output_type": "stream",
          "name": "stdout",
          "text": [
            "\n",
            "Cleaned data saved to cleaned_AB_NYC_2019.csv\n"
          ]
        }
      ]
    }
  ]
}